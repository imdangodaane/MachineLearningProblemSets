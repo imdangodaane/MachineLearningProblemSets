{
 "cells": [
  {
   "cell_type": "markdown",
   "metadata": {},
   "source": [
    "Porto Seguro's Safe Driver Prediction\n",
    "===="
   ]
  },
  {
   "cell_type": "markdown",
   "metadata": {},
   "source": [
    "## Introduction\n",
    "[This competition](https://www.kaggle.com/c/porto-seguro-safe-driver-prediction/data) is hosted by the third largest insurance company in Brazil: Porto Seguro with the task of predicting the probability that a driver will initiate an insurance claim in the next year.\n",
    "\n",
    "In the train data, features that belong to similar groupings are tagged as such in the feature names (e.g., ind, reg, car, calc). In addition, feature names include the postfix bin to indicate binary features and cat to indicate categorical features. Features without these designations are either continuous or ordinal. **Values of -1 indicate that the feature was missing** from the observation. The target columns signifies whether or not a claim was filed for that policy holder\n",
    "\n",
    "train.csv contains the training data, where each row corresponds to a policy holder, and the target columns signifies that a claim was filed.\n"
   ]
  },
  {
   "cell_type": "code",
   "execution_count": 1,
   "metadata": {},
   "outputs": [],
   "source": [
    "# Import libraries\n",
    "# Your code here\n",
    "import pandas as pd\n",
    "import numpy as np\n",
    "import matplotlib.pyplot as plt\n",
    "import seaborn as sns\n",
    "import warnings\n",
    "warnings.filterwarnings('ignore')"
   ]
  },
  {
   "cell_type": "code",
   "execution_count": 2,
   "metadata": {},
   "outputs": [],
   "source": [
    "# Read csv file and take a look at it\n",
    "train = pd.read_csv('train.csv')\n"
   ]
  },
  {
   "cell_type": "code",
   "execution_count": 3,
   "metadata": {},
   "outputs": [
    {
     "data": {
      "text/plain": [
       "59"
      ]
     },
     "execution_count": 3,
     "metadata": {},
     "output_type": "execute_result"
    }
   ],
   "source": [
    "len(train.columns)"
   ]
  },
  {
   "cell_type": "code",
   "execution_count": 4,
   "metadata": {},
   "outputs": [
    {
     "data": {
      "text/plain": [
       "595212"
      ]
     },
     "execution_count": 4,
     "metadata": {},
     "output_type": "execute_result"
    }
   ],
   "source": [
    "len(train)"
   ]
  },
  {
   "cell_type": "code",
   "execution_count": 5,
   "metadata": {
    "scrolled": true
   },
   "outputs": [
    {
     "name": "stdout",
     "output_type": "stream",
     "text": [
      "<class 'pandas.core.frame.DataFrame'>\n",
      "RangeIndex: 595212 entries, 0 to 595211\n",
      "Data columns (total 59 columns):\n",
      "id                595212 non-null int64\n",
      "target            595212 non-null int64\n",
      "ps_ind_01         595212 non-null int64\n",
      "ps_ind_02_cat     595212 non-null int64\n",
      "ps_ind_03         595212 non-null int64\n",
      "ps_ind_04_cat     595212 non-null int64\n",
      "ps_ind_05_cat     595212 non-null int64\n",
      "ps_ind_06_bin     595212 non-null int64\n",
      "ps_ind_07_bin     595212 non-null int64\n",
      "ps_ind_08_bin     595212 non-null int64\n",
      "ps_ind_09_bin     595212 non-null int64\n",
      "ps_ind_10_bin     595212 non-null int64\n",
      "ps_ind_11_bin     595212 non-null int64\n",
      "ps_ind_12_bin     595212 non-null int64\n",
      "ps_ind_13_bin     595212 non-null int64\n",
      "ps_ind_14         595212 non-null int64\n",
      "ps_ind_15         595212 non-null int64\n",
      "ps_ind_16_bin     595212 non-null int64\n",
      "ps_ind_17_bin     595212 non-null int64\n",
      "ps_ind_18_bin     595212 non-null int64\n",
      "ps_reg_01         595212 non-null float64\n",
      "ps_reg_02         595212 non-null float64\n",
      "ps_reg_03         595212 non-null float64\n",
      "ps_car_01_cat     595212 non-null int64\n",
      "ps_car_02_cat     595212 non-null int64\n",
      "ps_car_03_cat     595212 non-null int64\n",
      "ps_car_04_cat     595212 non-null int64\n",
      "ps_car_05_cat     595212 non-null int64\n",
      "ps_car_06_cat     595212 non-null int64\n",
      "ps_car_07_cat     595212 non-null int64\n",
      "ps_car_08_cat     595212 non-null int64\n",
      "ps_car_09_cat     595212 non-null int64\n",
      "ps_car_10_cat     595212 non-null int64\n",
      "ps_car_11_cat     595212 non-null int64\n",
      "ps_car_11         595212 non-null int64\n",
      "ps_car_12         595212 non-null float64\n",
      "ps_car_13         595212 non-null float64\n",
      "ps_car_14         595212 non-null float64\n",
      "ps_car_15         595212 non-null float64\n",
      "ps_calc_01        595212 non-null float64\n",
      "ps_calc_02        595212 non-null float64\n",
      "ps_calc_03        595212 non-null float64\n",
      "ps_calc_04        595212 non-null int64\n",
      "ps_calc_05        595212 non-null int64\n",
      "ps_calc_06        595212 non-null int64\n",
      "ps_calc_07        595212 non-null int64\n",
      "ps_calc_08        595212 non-null int64\n",
      "ps_calc_09        595212 non-null int64\n",
      "ps_calc_10        595212 non-null int64\n",
      "ps_calc_11        595212 non-null int64\n",
      "ps_calc_12        595212 non-null int64\n",
      "ps_calc_13        595212 non-null int64\n",
      "ps_calc_14        595212 non-null int64\n",
      "ps_calc_15_bin    595212 non-null int64\n",
      "ps_calc_16_bin    595212 non-null int64\n",
      "ps_calc_17_bin    595212 non-null int64\n",
      "ps_calc_18_bin    595212 non-null int64\n",
      "ps_calc_19_bin    595212 non-null int64\n",
      "ps_calc_20_bin    595212 non-null int64\n",
      "dtypes: float64(10), int64(49)\n",
      "memory usage: 267.9 MB\n"
     ]
    }
   ],
   "source": [
    "train.info()"
   ]
  },
  {
   "cell_type": "code",
   "execution_count": 6,
   "metadata": {},
   "outputs": [
    {
     "name": "stdout",
     "output_type": "stream",
     "text": [
      "The train dataset contains 595212 rows and 59 columns\n"
     ]
    }
   ],
   "source": [
    "# Taking a look at how many rows and columns the train dataset contains\n",
    "rows = len(train) # or use train.info()\n",
    "columns = len(train.columns)\n",
    "print(\"The train dataset contains {} rows and {} columns\".format(rows, columns))"
   ]
  },
  {
   "cell_type": "code",
   "execution_count": 7,
   "metadata": {
    "scrolled": true
   },
   "outputs": [
    {
     "name": "stdout",
     "output_type": "stream",
     "text": [
      "<class 'pandas.core.frame.DataFrame'>\n",
      "RangeIndex: 595212 entries, 0 to 595211\n",
      "Data columns (total 59 columns):\n",
      "id                595212 non-null int64\n",
      "target            595212 non-null int64\n",
      "ps_ind_01         595212 non-null int64\n",
      "ps_ind_02_cat     595212 non-null int64\n",
      "ps_ind_03         595212 non-null int64\n",
      "ps_ind_04_cat     595212 non-null int64\n",
      "ps_ind_05_cat     595212 non-null int64\n",
      "ps_ind_06_bin     595212 non-null int64\n",
      "ps_ind_07_bin     595212 non-null int64\n",
      "ps_ind_08_bin     595212 non-null int64\n",
      "ps_ind_09_bin     595212 non-null int64\n",
      "ps_ind_10_bin     595212 non-null int64\n",
      "ps_ind_11_bin     595212 non-null int64\n",
      "ps_ind_12_bin     595212 non-null int64\n",
      "ps_ind_13_bin     595212 non-null int64\n",
      "ps_ind_14         595212 non-null int64\n",
      "ps_ind_15         595212 non-null int64\n",
      "ps_ind_16_bin     595212 non-null int64\n",
      "ps_ind_17_bin     595212 non-null int64\n",
      "ps_ind_18_bin     595212 non-null int64\n",
      "ps_reg_01         595212 non-null float64\n",
      "ps_reg_02         595212 non-null float64\n",
      "ps_reg_03         595212 non-null float64\n",
      "ps_car_01_cat     595212 non-null int64\n",
      "ps_car_02_cat     595212 non-null int64\n",
      "ps_car_03_cat     595212 non-null int64\n",
      "ps_car_04_cat     595212 non-null int64\n",
      "ps_car_05_cat     595212 non-null int64\n",
      "ps_car_06_cat     595212 non-null int64\n",
      "ps_car_07_cat     595212 non-null int64\n",
      "ps_car_08_cat     595212 non-null int64\n",
      "ps_car_09_cat     595212 non-null int64\n",
      "ps_car_10_cat     595212 non-null int64\n",
      "ps_car_11_cat     595212 non-null int64\n",
      "ps_car_11         595212 non-null int64\n",
      "ps_car_12         595212 non-null float64\n",
      "ps_car_13         595212 non-null float64\n",
      "ps_car_14         595212 non-null float64\n",
      "ps_car_15         595212 non-null float64\n",
      "ps_calc_01        595212 non-null float64\n",
      "ps_calc_02        595212 non-null float64\n",
      "ps_calc_03        595212 non-null float64\n",
      "ps_calc_04        595212 non-null int64\n",
      "ps_calc_05        595212 non-null int64\n",
      "ps_calc_06        595212 non-null int64\n",
      "ps_calc_07        595212 non-null int64\n",
      "ps_calc_08        595212 non-null int64\n",
      "ps_calc_09        595212 non-null int64\n",
      "ps_calc_10        595212 non-null int64\n",
      "ps_calc_11        595212 non-null int64\n",
      "ps_calc_12        595212 non-null int64\n",
      "ps_calc_13        595212 non-null int64\n",
      "ps_calc_14        595212 non-null int64\n",
      "ps_calc_15_bin    595212 non-null int64\n",
      "ps_calc_16_bin    595212 non-null int64\n",
      "ps_calc_17_bin    595212 non-null int64\n",
      "ps_calc_18_bin    595212 non-null int64\n",
      "ps_calc_19_bin    595212 non-null int64\n",
      "ps_calc_20_bin    595212 non-null int64\n",
      "dtypes: float64(10), int64(49)\n",
      "memory usage: 267.9 MB\n"
     ]
    }
   ],
   "source": [
    "train.info()"
   ]
  },
  {
   "cell_type": "markdown",
   "metadata": {},
   "source": [
    "## 1. Data Quality Checks"
   ]
  },
  {
   "cell_type": "markdown",
   "metadata": {},
   "source": [
    "### Null or missing values check\n",
    "Let check whether there are any null values in the train dataset as follows:"
   ]
  },
  {
   "cell_type": "code",
   "execution_count": 8,
   "metadata": {
    "scrolled": true
   },
   "outputs": [
    {
     "name": "stdout",
     "output_type": "stream",
     "text": [
      "<class 'pandas.core.frame.DataFrame'>\n",
      "RangeIndex: 595212 entries, 0 to 595211\n",
      "Data columns (total 59 columns):\n",
      "id                595212 non-null int64\n",
      "target            595212 non-null int64\n",
      "ps_ind_01         595212 non-null int64\n",
      "ps_ind_02_cat     595212 non-null int64\n",
      "ps_ind_03         595212 non-null int64\n",
      "ps_ind_04_cat     595212 non-null int64\n",
      "ps_ind_05_cat     595212 non-null int64\n",
      "ps_ind_06_bin     595212 non-null int64\n",
      "ps_ind_07_bin     595212 non-null int64\n",
      "ps_ind_08_bin     595212 non-null int64\n",
      "ps_ind_09_bin     595212 non-null int64\n",
      "ps_ind_10_bin     595212 non-null int64\n",
      "ps_ind_11_bin     595212 non-null int64\n",
      "ps_ind_12_bin     595212 non-null int64\n",
      "ps_ind_13_bin     595212 non-null int64\n",
      "ps_ind_14         595212 non-null int64\n",
      "ps_ind_15         595212 non-null int64\n",
      "ps_ind_16_bin     595212 non-null int64\n",
      "ps_ind_17_bin     595212 non-null int64\n",
      "ps_ind_18_bin     595212 non-null int64\n",
      "ps_reg_01         595212 non-null float64\n",
      "ps_reg_02         595212 non-null float64\n",
      "ps_reg_03         595212 non-null float64\n",
      "ps_car_01_cat     595212 non-null int64\n",
      "ps_car_02_cat     595212 non-null int64\n",
      "ps_car_03_cat     595212 non-null int64\n",
      "ps_car_04_cat     595212 non-null int64\n",
      "ps_car_05_cat     595212 non-null int64\n",
      "ps_car_06_cat     595212 non-null int64\n",
      "ps_car_07_cat     595212 non-null int64\n",
      "ps_car_08_cat     595212 non-null int64\n",
      "ps_car_09_cat     595212 non-null int64\n",
      "ps_car_10_cat     595212 non-null int64\n",
      "ps_car_11_cat     595212 non-null int64\n",
      "ps_car_11         595212 non-null int64\n",
      "ps_car_12         595212 non-null float64\n",
      "ps_car_13         595212 non-null float64\n",
      "ps_car_14         595212 non-null float64\n",
      "ps_car_15         595212 non-null float64\n",
      "ps_calc_01        595212 non-null float64\n",
      "ps_calc_02        595212 non-null float64\n",
      "ps_calc_03        595212 non-null float64\n",
      "ps_calc_04        595212 non-null int64\n",
      "ps_calc_05        595212 non-null int64\n",
      "ps_calc_06        595212 non-null int64\n",
      "ps_calc_07        595212 non-null int64\n",
      "ps_calc_08        595212 non-null int64\n",
      "ps_calc_09        595212 non-null int64\n",
      "ps_calc_10        595212 non-null int64\n",
      "ps_calc_11        595212 non-null int64\n",
      "ps_calc_12        595212 non-null int64\n",
      "ps_calc_13        595212 non-null int64\n",
      "ps_calc_14        595212 non-null int64\n",
      "ps_calc_15_bin    595212 non-null int64\n",
      "ps_calc_16_bin    595212 non-null int64\n",
      "ps_calc_17_bin    595212 non-null int64\n",
      "ps_calc_18_bin    595212 non-null int64\n",
      "ps_calc_19_bin    595212 non-null int64\n",
      "ps_calc_20_bin    595212 non-null int64\n",
      "dtypes: float64(10), int64(49)\n",
      "memory usage: 267.9 MB\n"
     ]
    }
   ],
   "source": [
    "# Your code here\n",
    "train.info()"
   ]
  },
  {
   "cell_type": "markdown",
   "metadata": {},
   "source": [
    "**Note:** Our null values check returns False but however, this does not really mean that this case has been closed as the data is also described as *\"Values of -1 indicate that the feature was missing from the observation\"*. Therefore I take it that Porto Seguro has simply conducted a blanket replacement of all null values in the data with the value of -1. Let us now inspect if there where any missing values in the data."
   ]
  },
  {
   "cell_type": "code",
   "execution_count": 9,
   "metadata": {},
   "outputs": [
    {
     "data": {
      "text/plain": [
       "False"
      ]
     },
     "execution_count": 9,
     "metadata": {},
     "output_type": "execute_result"
    }
   ],
   "source": [
    "train.isnull().values.any()"
   ]
  },
  {
   "cell_type": "markdown",
   "metadata": {},
   "source": [
    "Here we can see that which columns contained -1 in their values so we could easily for example make a blanket replacement of all -1 with nulls first as follows:"
   ]
  },
  {
   "cell_type": "code",
   "execution_count": 10,
   "metadata": {},
   "outputs": [],
   "source": [
    "train_copy = train.copy()\n",
    "train_copy = train_copy.replace(-1, np.NaN)"
   ]
  },
  {
   "cell_type": "markdown",
   "metadata": {},
   "source": [
    "We can use \"Missingno\" to visualize missing values in the dataset."
   ]
  },
  {
   "cell_type": "code",
   "execution_count": 11,
   "metadata": {},
   "outputs": [
    {
     "ename": "ModuleNotFoundError",
     "evalue": "No module named 'missingno'",
     "output_type": "error",
     "traceback": [
      "\u001b[1;31m---------------------------------------------------------------------------\u001b[0m",
      "\u001b[1;31mModuleNotFoundError\u001b[0m                       Traceback (most recent call last)",
      "\u001b[1;32m<ipython-input-11-8a4343a33640>\u001b[0m in \u001b[0;36m<module>\u001b[1;34m\u001b[0m\n\u001b[0;32m      1\u001b[0m \u001b[1;31m# If you don't have \"Missingno\" package, use this command to install\u001b[0m\u001b[1;33m\u001b[0m\u001b[1;33m\u001b[0m\u001b[1;33m\u001b[0m\u001b[0m\n\u001b[0;32m      2\u001b[0m \u001b[1;31m# (Linux) conda install -c conda-forge missingno\u001b[0m\u001b[1;33m\u001b[0m\u001b[1;33m\u001b[0m\u001b[1;33m\u001b[0m\u001b[0m\n\u001b[1;32m----> 3\u001b[1;33m \u001b[1;32mimport\u001b[0m \u001b[0mmissingno\u001b[0m \u001b[1;32mas\u001b[0m \u001b[0mmsno\u001b[0m\u001b[1;33m\u001b[0m\u001b[1;33m\u001b[0m\u001b[0m\n\u001b[0m\u001b[0;32m      4\u001b[0m \u001b[1;33m\u001b[0m\u001b[0m\n\u001b[0;32m      5\u001b[0m \u001b[0mmsno\u001b[0m\u001b[1;33m.\u001b[0m\u001b[0mmatrix\u001b[0m\u001b[1;33m(\u001b[0m\u001b[0mdf\u001b[0m\u001b[1;33m=\u001b[0m\u001b[0mtrain_copy\u001b[0m\u001b[1;33m.\u001b[0m\u001b[0miloc\u001b[0m\u001b[1;33m[\u001b[0m\u001b[1;33m:\u001b[0m\u001b[1;33m,\u001b[0m \u001b[1;36m2\u001b[0m\u001b[1;33m:\u001b[0m\u001b[1;36m39\u001b[0m\u001b[1;33m]\u001b[0m\u001b[1;33m,\u001b[0m \u001b[0mfigsize\u001b[0m\u001b[1;33m=\u001b[0m\u001b[1;33m(\u001b[0m\u001b[1;36m20\u001b[0m\u001b[1;33m,\u001b[0m \u001b[1;36m14\u001b[0m\u001b[1;33m)\u001b[0m\u001b[1;33m,\u001b[0m \u001b[0mcolor\u001b[0m\u001b[1;33m=\u001b[0m\u001b[1;33m(\u001b[0m\u001b[1;36m0.42\u001b[0m\u001b[1;33m,\u001b[0m \u001b[1;36m0.1\u001b[0m\u001b[1;33m,\u001b[0m \u001b[1;36m0.05\u001b[0m\u001b[1;33m)\u001b[0m\u001b[1;33m)\u001b[0m\u001b[1;33m\u001b[0m\u001b[1;33m\u001b[0m\u001b[0m\n",
      "\u001b[1;31mModuleNotFoundError\u001b[0m: No module named 'missingno'"
     ]
    }
   ],
   "source": [
    "# If you don't have \"Missingno\" package, use this command to install\n",
    "# (Linux) conda install -c conda-forge missingno\n",
    "import missingno as msno\n",
    "\n",
    "msno.matrix(df=train_copy.iloc[:, 2:39], figsize=(20, 14), color=(0.42, 0.1, 0.05))"
   ]
  },
  {
   "cell_type": "code",
   "execution_count": 12,
   "metadata": {
    "scrolled": true
   },
   "outputs": [
    {
     "data": {
      "text/plain": [
       "id                     0\n",
       "target                 0\n",
       "ps_ind_01              0\n",
       "ps_ind_02_cat        216\n",
       "ps_ind_03              0\n",
       "ps_ind_04_cat         83\n",
       "ps_ind_05_cat       5809\n",
       "ps_ind_06_bin          0\n",
       "ps_ind_07_bin          0\n",
       "ps_ind_08_bin          0\n",
       "ps_ind_09_bin          0\n",
       "ps_ind_10_bin          0\n",
       "ps_ind_11_bin          0\n",
       "ps_ind_12_bin          0\n",
       "ps_ind_13_bin          0\n",
       "ps_ind_14              0\n",
       "ps_ind_15              0\n",
       "ps_ind_16_bin          0\n",
       "ps_ind_17_bin          0\n",
       "ps_ind_18_bin          0\n",
       "ps_reg_01              0\n",
       "ps_reg_02              0\n",
       "ps_reg_03         107772\n",
       "ps_car_01_cat        107\n",
       "ps_car_02_cat          5\n",
       "ps_car_03_cat     411231\n",
       "ps_car_04_cat          0\n",
       "ps_car_05_cat     266551\n",
       "ps_car_06_cat          0\n",
       "ps_car_07_cat      11489\n",
       "ps_car_08_cat          0\n",
       "ps_car_09_cat        569\n",
       "ps_car_10_cat          0\n",
       "ps_car_11_cat          0\n",
       "ps_car_11              5\n",
       "ps_car_12              1\n",
       "ps_car_13              0\n",
       "ps_car_14          42620\n",
       "ps_car_15              0\n",
       "ps_calc_01             0\n",
       "ps_calc_02             0\n",
       "ps_calc_03             0\n",
       "ps_calc_04             0\n",
       "ps_calc_05             0\n",
       "ps_calc_06             0\n",
       "ps_calc_07             0\n",
       "ps_calc_08             0\n",
       "ps_calc_09             0\n",
       "ps_calc_10             0\n",
       "ps_calc_11             0\n",
       "ps_calc_12             0\n",
       "ps_calc_13             0\n",
       "ps_calc_14             0\n",
       "ps_calc_15_bin         0\n",
       "ps_calc_16_bin         0\n",
       "ps_calc_17_bin         0\n",
       "ps_calc_18_bin         0\n",
       "ps_calc_19_bin         0\n",
       "ps_calc_20_bin         0\n",
       "dtype: int64"
      ]
     },
     "execution_count": 12,
     "metadata": {},
     "output_type": "execute_result"
    }
   ],
   "source": [
    "# List null columns name\n",
    "# Hint: isnull()\n",
    "# Your code here\n",
    "train_copy.isna().sum()"
   ]
  },
  {
   "cell_type": "markdown",
   "metadata": {},
   "source": [
    "#### Target variable inspection"
   ]
  },
  {
   "cell_type": "code",
   "execution_count": 13,
   "metadata": {},
   "outputs": [
    {
     "data": {
      "text/plain": [
       "<matplotlib.axes._subplots.AxesSubplot at 0x1d4841772e8>"
      ]
     },
     "execution_count": 13,
     "metadata": {},
     "output_type": "execute_result"
    },
    {
     "data": {
      "image/png": "[encoded data removed]",
      "text/plain": [
       "<Figure size 432x288 with 1 Axes>"
      ]
     },
     "metadata": {
      "needs_background": "light"
     },
     "output_type": "display_data"
    }
   ],
   "source": [
    "# Using countplot to represent target\n",
    "# Your code here\n",
    "sns.countplot(data=train, x='target')"
   ]
  },
  {
   "cell_type": "markdown",
   "metadata": {},
   "source": [
    "## 2. Feature inspection and filtering"
   ]
  },
  {
   "cell_type": "markdown",
   "metadata": {},
   "source": [
    "### Correlation plots\n",
    "As a starter, let us generate some linear correlation plots just to have a quick look at how a feature is linearly correlated to the next and perhaps start gaining some insights from here. At this juncture, I will use the seaborn statistical visualisation package to plot a heatmap of the correlation values. Conveniently, Pandas dataframes come with the corr() method inbuilt, which calculates the Pearson correlation. Also as convenient is Seaborn's way of invoking a correlation plot. Just literally the word \"heatmap\""
   ]
  },
  {
   "cell_type": "markdown",
   "metadata": {},
   "source": [
    "#### Correlation of float features"
   ]
  },
  {
   "cell_type": "code",
   "execution_count": 14,
   "metadata": {},
   "outputs": [],
   "source": [
    "train_float = train.select_dtypes(include=['float64'])\n",
    "train_int = train.select_dtypes(include=['int64'])"
   ]
  },
  {
   "cell_type": "code",
   "execution_count": 15,
   "metadata": {},
   "outputs": [
    {
     "data": {
      "image/png": "[encoded data removed]",
      "text/plain": [
       "<Figure size 1152x864 with 2 Axes>"
      ]
     },
     "metadata": {
      "needs_background": "light"
     },
     "output_type": "display_data"
    }
   ],
   "source": [
    "colormap = plt.cm.magma\n",
    "plt.figure(figsize=(16, 12))\n",
    "plt.title(\"Paerson correlation of continuous features\", y=1.05, size=15)\n",
    "sns.heatmap(train_float.corr(), linewidths=0.1, vmax=1.0, square=True,\n",
    "           cmap=colormap)\n",
    "plt.show()"
   ]
  },
  {
   "cell_type": "markdown",
   "metadata": {},
   "source": [
    "From the correlation plot, we can see that the majority of the features display zero or no correlation to one another. This is quite an interesting observation that will warrant our further investigation later down. For now, the paired features that display a positive linear correlation are listed as follows:\n",
    "\n",
    "(ps_reg_01, ps_reg_03)\n",
    "\n",
    "(ps_reg_02, ps_reg_03)\n",
    "\n",
    "(ps_car_12, ps_car_13)\n",
    "\n",
    "(ps_car_13, ps_car_15)"
   ]
  },
  {
   "cell_type": "markdown",
   "metadata": {},
   "source": [
    "### Correlation of integer features"
   ]
  },
  {
   "cell_type": "code",
   "execution_count": 16,
   "metadata": {},
   "outputs": [
    {
     "data": {
      "image/png": "[encoded data removed]",
      "text/plain": [
       "<Figure size 1152x864 with 2 Axes>"
      ]
     },
     "metadata": {
      "needs_background": "light"
     },
     "output_type": "display_data"
    }
   ],
   "source": [
    "colormap = plt.cm.magma\n",
    "plt.figure(figsize=(16, 12))\n",
    "plt.title(\"Paerson correlation of continuous features\", y=1.05, size=15)\n",
    "sns.heatmap(train_int.corr(), linewidths=0.1, vmax=1.0, square=True,\n",
    "           cmap=colormap)\n",
    "# Your code here\n",
    "# Hint: correlation of train_int\n",
    "plt.show()"
   ]
  },
  {
   "cell_type": "markdown",
   "metadata": {},
   "source": [
    "#### Which features have negatively correlation?\n",
    "Negatively correlated features : **ps_ind_16_bin and ps_ind_17_bin**\n",
    ",**ps_ind_06_bin and ps_ind_07_bin**"
   ]
  },
  {
   "cell_type": "markdown",
   "metadata": {},
   "source": [
    "### Binary features inspection\n",
    "Another aspect of the data that we may want to inspect would be the coulmns that only contain binary valeus, i.e where values take on only either of the two values 1 or 0. Proceeding, we store all columns that contain these binary values and then generate a vertical plotly bar plot of these binary values as follows:"
   ]
  },
  {
   "cell_type": "code",
   "execution_count": 17,
   "metadata": {},
   "outputs": [],
   "source": [
    "bin_col = list(filter(lambda x: '_bin' in x, train.columns))\n",
    "bin_value_counts = train[bin_col].apply(pd.value_counts)"
   ]
  },
  {
   "cell_type": "code",
   "execution_count": 18,
   "metadata": {},
   "outputs": [
    {
     "data": {
      "text/html": [
       "<div>\n",
       "<style scoped>\n",
       "    .dataframe tbody tr th:only-of-type {\n",
       "        vertical-align: middle;\n",
       "    }\n",
       "\n",
       "    .dataframe tbody tr th {\n",
       "        vertical-align: top;\n",
       "    }\n",
       "\n",
       "    .dataframe thead th {\n",
       "        text-align: right;\n",
       "    }\n",
       "</style>\n",
       "<table border=\"1\" class=\"dataframe\">\n",
       "  <thead>\n",
       "    <tr style=\"text-align: right;\">\n",
       "      <th></th>\n",
       "      <th>ps_ind_06_bin</th>\n",
       "      <th>ps_ind_07_bin</th>\n",
       "      <th>ps_ind_08_bin</th>\n",
       "      <th>ps_ind_09_bin</th>\n",
       "      <th>ps_ind_10_bin</th>\n",
       "      <th>ps_ind_11_bin</th>\n",
       "      <th>ps_ind_12_bin</th>\n",
       "      <th>ps_ind_13_bin</th>\n",
       "      <th>ps_ind_16_bin</th>\n",
       "      <th>ps_ind_17_bin</th>\n",
       "      <th>ps_ind_18_bin</th>\n",
       "      <th>ps_calc_15_bin</th>\n",
       "      <th>ps_calc_16_bin</th>\n",
       "      <th>ps_calc_17_bin</th>\n",
       "      <th>ps_calc_18_bin</th>\n",
       "      <th>ps_calc_19_bin</th>\n",
       "      <th>ps_calc_20_bin</th>\n",
       "    </tr>\n",
       "  </thead>\n",
       "  <tbody>\n",
       "    <tr>\n",
       "      <th>0</th>\n",
       "      <td>360852</td>\n",
       "      <td>442223</td>\n",
       "      <td>497644</td>\n",
       "      <td>484917</td>\n",
       "      <td>594990</td>\n",
       "      <td>594205</td>\n",
       "      <td>589594</td>\n",
       "      <td>594648</td>\n",
       "      <td>201882</td>\n",
       "      <td>523143</td>\n",
       "      <td>503879</td>\n",
       "      <td>522342</td>\n",
       "      <td>221514</td>\n",
       "      <td>265356</td>\n",
       "      <td>424278</td>\n",
       "      <td>387469</td>\n",
       "      <td>503955</td>\n",
       "    </tr>\n",
       "    <tr>\n",
       "      <th>1</th>\n",
       "      <td>234360</td>\n",
       "      <td>152989</td>\n",
       "      <td>97568</td>\n",
       "      <td>110295</td>\n",
       "      <td>222</td>\n",
       "      <td>1007</td>\n",
       "      <td>5618</td>\n",
       "      <td>564</td>\n",
       "      <td>393330</td>\n",
       "      <td>72069</td>\n",
       "      <td>91333</td>\n",
       "      <td>72870</td>\n",
       "      <td>373698</td>\n",
       "      <td>329856</td>\n",
       "      <td>170934</td>\n",
       "      <td>207743</td>\n",
       "      <td>91257</td>\n",
       "    </tr>\n",
       "  </tbody>\n",
       "</table>\n",
       "</div>"
      ],
      "text/plain": [
       "   ps_ind_06_bin  ps_ind_07_bin  ps_ind_08_bin  ps_ind_09_bin  ps_ind_10_bin  \\\n",
       "0         360852         442223         497644         484917         594990   \n",
       "1         234360         152989          97568         110295            222   \n",
       "\n",
       "   ps_ind_11_bin  ps_ind_12_bin  ps_ind_13_bin  ps_ind_16_bin  ps_ind_17_bin  \\\n",
       "0         594205         589594         594648         201882         523143   \n",
       "1           1007           5618            564         393330          72069   \n",
       "\n",
       "   ps_ind_18_bin  ps_calc_15_bin  ps_calc_16_bin  ps_calc_17_bin  \\\n",
       "0         503879          522342          221514          265356   \n",
       "1          91333           72870          373698          329856   \n",
       "\n",
       "   ps_calc_18_bin  ps_calc_19_bin  ps_calc_20_bin  \n",
       "0          424278          387469          503955  \n",
       "1          170934          207743           91257  "
      ]
     },
     "execution_count": 18,
     "metadata": {},
     "output_type": "execute_result"
    }
   ],
   "source": [
    "bin_value_counts"
   ]
  },
  {
   "cell_type": "code",
   "execution_count": 19,
   "metadata": {},
   "outputs": [
    {
     "data": {
      "text/plain": [
       "pandas.core.frame.DataFrame"
      ]
     },
     "execution_count": 19,
     "metadata": {},
     "output_type": "execute_result"
    }
   ],
   "source": [
    "type(bin_value_counts)"
   ]
  },
  {
   "cell_type": "code",
   "execution_count": 28,
   "metadata": {},
   "outputs": [
    {
     "data": {
      "text/plain": [
       "<matplotlib.axes._subplots.AxesSubplot at 0x1d488871278>"
      ]
     },
     "execution_count": 28,
     "metadata": {},
     "output_type": "execute_result"
    },
    {
     "data": {
      "image/png": "[encoded data removed]",
      "text/plain": [
       "<Figure size 432x288 with 1 Axes>"
      ]
     },
     "metadata": {
      "needs_background": "light"
     },
     "output_type": "display_data"
    }
   ],
   "source": [
    "# hint pandas plot.bar with stacked=True\n",
    "# Your code here\n",
    "bin_value_counts.T.plot(kind='bar',stacked=True)"
   ]
  },
  {
   "cell_type": "markdown",
   "metadata": {},
   "source": [
    "Those columns ps_ind_10_bin, ps_ind_11_bin, ps_ind_12_bin, ps_ind_13_bin which are completely dominated by zeros. They do not contain much information."
   ]
  },
  {
   "cell_type": "markdown",
   "metadata": {},
   "source": [
    "## 3. Preprocess Data"
   ]
  },
  {
   "cell_type": "code",
   "execution_count": 29,
   "metadata": {},
   "outputs": [],
   "source": [
    "# Import train_test_split \n",
    "# Your code here\n",
    "from sklearn.model_selection import train_test_split"
   ]
  },
  {
   "cell_type": "code",
   "execution_count": 30,
   "metadata": {},
   "outputs": [],
   "source": [
    "# Define X (features), y (target)\n",
    "X = train.drop(columns=\"target\")# Your code here\n",
    "y = train[\"target\"]# Your code here"
   ]
  },
  {
   "cell_type": "code",
   "execution_count": 31,
   "metadata": {},
   "outputs": [],
   "source": [
    "# Split data into train and test set\n",
    "X_train, X_test, y_train, y_test = train_test_split(X, y, test_size=0.3, random_state=101)# Your code here"
   ]
  },
  {
   "cell_type": "markdown",
   "metadata": {},
   "source": [
    "#### Randomly Under-Sampling the Training Dataset¶\n",
    "**Note:** Validate ratio between 2 class after Under-Sampling"
   ]
  },
  {
   "cell_type": "code",
   "execution_count": 36,
   "metadata": {},
   "outputs": [
    {
     "name": "stdout",
     "output_type": "stream",
     "text": [
      "Percentage Fraud transactions:  3.6447517859182947\n",
      "Percentage No-fraud transactions:  96.3552482140817\n"
     ]
    }
   ],
   "source": [
    "# Check ratio between classes\n",
    "percentage_fraud = (train['target'] == 1).sum() / train.shape[0] * 100\n",
    "percentage_no_fraud = (train['target'] == 0).sum() / train.shape[0] * 100\n",
    "\n",
    "print ('Percentage Fraud transactions: ', percentage_fraud)\n",
    "print ('Percentage No-fraud transactions: ', percentage_no_fraud)"
   ]
  },
  {
   "cell_type": "code",
   "execution_count": 37,
   "metadata": {},
   "outputs": [
    {
     "data": {
      "text/plain": [
       "0    401467\n",
       "1     15181\n",
       "Name: target, dtype: int64"
      ]
     },
     "execution_count": 37,
     "metadata": {},
     "output_type": "execute_result"
    }
   ],
   "source": [
    "training_data = pd.concat ([X_train,y_train],axis = 1)\n",
    "training_data['target'].value_counts()"
   ]
  },
  {
   "cell_type": "code",
   "execution_count": 38,
   "metadata": {},
   "outputs": [
    {
     "name": "stdout",
     "output_type": "stream",
     "text": [
      "Percentage original fraud:  3.6447517859182947\n",
      "Percentage original no-fraud:  96.3552482140817\n",
      "Number of newly sub fraud data: 3644\n",
      "Number of newly sub non-fraud data: 96355\n"
     ]
    },
    {
     "data": {
      "text/plain": [
       "0    96355\n",
       "1     3644\n",
       "Name: target, dtype: int64"
      ]
     },
     "execution_count": 38,
     "metadata": {},
     "output_type": "execute_result"
    }
   ],
   "source": [
    "print ('Percentage original fraud: ', percentage_fraud)\n",
    "print ('Percentage original no-fraud: ', percentage_no_fraud)\n",
    "number_of_instances = 100000\n",
    "# We will obtain maximum 100.000 data instances with the same class ratio of original data.\n",
    "# Therefore, new data will have 0.17% fraud and 99.83% non-fraud of 100.000.\n",
    "# Which means, new data will have 170 fraud transactions and 99830 non-fraud transactions.\n",
    "\n",
    "number_sub_fraud = int (percentage_fraud/100 * number_of_instances)\n",
    "number_sub_non_fraud = int (percentage_no_fraud/100 * number_of_instances)\n",
    "\n",
    "sub_fraud_data = training_data[training_data['target'] == 1].head(number_sub_fraud)\n",
    "sub_non_fraud_data = training_data[training_data['target'] == 0].head(number_sub_non_fraud)\n",
    "\n",
    "print ('Number of newly sub fraud data:',len(sub_fraud_data))\n",
    "print ('Number of newly sub non-fraud data:',len(sub_non_fraud_data))\n",
    "\n",
    "sub_training_data = pd.concat ([sub_fraud_data, sub_non_fraud_data], axis = 0)\n",
    "sub_training_data['target'].value_counts()"
   ]
  },
  {
   "cell_type": "code",
   "execution_count": 39,
   "metadata": {},
   "outputs": [
    {
     "name": "stdout",
     "output_type": "stream",
     "text": [
      "Percentage of normal target:  0.5\n",
      "Percentage of fraud target:  0.5\n",
      "Total number of target in resampled data:  7288\n"
     ]
    },
    {
     "data": {
      "image/png": "[encoded data removed]",
      "text/plain": [
       "<Figure size 504x504 with 1 Axes>"
      ]
     },
     "metadata": {
      "needs_background": "light"
     },
     "output_type": "display_data"
    }
   ],
   "source": [
    "# Your code here\n",
    "# Fraud/non-fraud data\n",
    "# Select row which \"Class\" is 1 and save in fraud_data\n",
    "fraud_data = sub_training_data[sub_training_data['target'] == 1]\n",
    "# Select row which \"Class\" is 0 and save in non_fraud_data\n",
    "non_fraud_data = sub_training_data[sub_training_data['target'] == 0]\n",
    "\n",
    "# Number of fraud, non-fraud transactions\n",
    "number_records_fraud = fraud_data.shape[0]\n",
    "number_records_non_fraud = non_fraud_data.shape[0]\n",
    "\n",
    "# Using sample function on data frame to randomly select number_records_fraud from non_fraud_data data frame\n",
    "under_sample_non_fraud = non_fraud_data.sample(number_records_fraud)\n",
    "# **concat** under_sample_non_fraud and fraud_data to form under_sample_data\n",
    "under_sample_data = pd.concat([under_sample_non_fraud, fraud_data], axis=0)\n",
    "\n",
    "# Showing ratio\n",
    "print(\"Percentage of normal target: \", under_sample_non_fraud.shape[0] / under_sample_data.shape[0])\n",
    "print(\"Percentage of fraud target: \", fraud_data.shape[0] / under_sample_data.shape[0])\n",
    "print(\"Total number of target in resampled data: \", under_sample_data.shape[0])\n",
    "\n",
    "# Assigning X,y for Under-sampled Data\n",
    "X_train_undersample = under_sample_data.drop(columns=['target'])\n",
    "y_train_undersample = under_sample_data['target']\n",
    "\n",
    "# Plot countplot\n",
    "plt.figure(figsize=(7,7))\n",
    "# Make a count plot to show ratio between 2 class on \"Class\" column\n",
    "sns.countplot(data=under_sample_data, x='target')\n",
    "plt.show()"
   ]
  },
  {
   "cell_type": "markdown",
   "metadata": {},
   "source": [
    "#### Randomly Over-Sampling the Training Dataset\n",
    "**Note:** Validate ratio between 2 class after Over-Sampling"
   ]
  },
  {
   "cell_type": "code",
   "execution_count": 40,
   "metadata": {},
   "outputs": [
    {
     "name": "stdout",
     "output_type": "stream",
     "text": [
      "Percentage of normal target:  0.5\n",
      "Percentage of fraud target:  0.018909241866016294\n",
      "Total number of target in resampled data:  192710\n"
     ]
    },
    {
     "data": {
      "image/png": "[encoded data removed]",
      "text/plain": [
       "<Figure size 504x504 with 1 Axes>"
      ]
     },
     "metadata": {
      "needs_background": "light"
     },
     "output_type": "display_data"
    }
   ],
   "source": [
    "# Your code here\n",
    "# Fraud/non-fraud data\n",
    "# Select row which \"Class\" is 1 and save in fraud_data\n",
    "fraud_data = sub_training_data[sub_training_data['target'] == 1]\n",
    "# Select row which \"Class\" is 0 and save in non_fraud_data\n",
    "non_fraud_data = sub_training_data[sub_training_data['target'] == 0]\n",
    "\n",
    "# Number of fraud, non-fraud transactions\n",
    "number_records_fraud = fraud_data.shape[0]\n",
    "number_records_non_fraud = non_fraud_data.shape[0]\n",
    "\n",
    "# Using sample on fraud_data with replacement \"replace = True\",  since we take a larger sample than population\n",
    "over_sample_fraud = fraud_data.sample(replace = True, n=number_records_non_fraud)\n",
    "# **concat** over_sample_fraud and non_fraud_data to form under_sample_data\n",
    "over_sample_data = pd.concat([over_sample_fraud, non_fraud_data], axis=0)\n",
    "\n",
    "# Showing ratio\n",
    "print(\"Percentage of normal target: \", non_fraud_data.shape[0]/over_sample_data.shape[0])\n",
    "print(\"Percentage of fraud target: \", fraud_data.shape[0]/over_sample_data.shape[0])\n",
    "print(\"Total number of target in resampled data: \", over_sample_data.shape[0])\n",
    "\n",
    "# Assigning X, y for over-sampled dataset\n",
    "X_train_oversample = over_sample_data.drop(columns=['target'])\n",
    "y_train_oversample = over_sample_data['target']\n",
    "\n",
    "# Plot countplot\n",
    "plt.figure(figsize=(7,7))\n",
    "# Make a count plot to show ratio between 2 class on \"Class\" column\n",
    "sns.countplot(data=over_sample_data, x='target')\n",
    "plt.show()"
   ]
  },
  {
   "cell_type": "markdown",
   "metadata": {},
   "source": [
    "## 4. Modeling"
   ]
  },
  {
   "cell_type": "code",
   "execution_count": 41,
   "metadata": {},
   "outputs": [],
   "source": [
    "# Spot check with LogisticRegression, DecisionTreeClassifier, RandomForestClassifier, BernoulliNB, GaussianNB\n",
    "# Import libraries and and create model\n",
    "from sklearn.linear_model import LogisticRegression\n",
    "from sklearn.tree import DecisionTreeClassifier\n",
    "from sklearn.ensemble import RandomForestClassifier\n",
    "from sklearn.svm import SVC, LinearSVC\n",
    "from sklearn.naive_bayes import GaussianNB\n",
    "from sklearn.naive_bayes import BernoulliNB\n",
    "# Your code here\n",
    "lr = LogisticRegression()\n",
    "dtc = DecisionTreeClassifier()\n",
    "rfc = RandomForestClassifier()\n",
    "bnb = BernoulliNB()\n",
    "gnb = GaussianNB()\n",
    "svm = LinearSVC()\n",
    "\n",
    "models = [lr, dtc, rfc, gnb, bnb]\n",
    "models_name = [\"Logistic Regression\", \"Decision Tree\", \"Random Forest\", \"Bernoulli NB\", \"Gaussian NB\"]"
   ]
  },
  {
   "cell_type": "markdown",
   "metadata": {},
   "source": [
    "## 5. Evaluation Metrics"
   ]
  },
  {
   "cell_type": "code",
   "execution_count": 45,
   "metadata": {},
   "outputs": [],
   "source": [
    "# Import confusion_matrix, classification_report\n",
    "# Your code here\n",
    "from sklearn.metrics import classification_report, confusion_matrix\n",
    "from sklearn.metrics import recall_score, precision_score\n",
    "\n",
    "# We create an utils function, that take a trained model as argument and print out confusion matrix\n",
    "# classification report base on X and y\n",
    "def evaluate_model(estimator, X, y, description):\n",
    "    # Your code here\n",
    "    prediction = estimator.predict(X)\n",
    "    np.set_printoptions(precision=2)\n",
    "    model_name = type(estimator).__name__\n",
    "    return {'name': model_name, \n",
    "            'recall': recall_score(y, prediction),\n",
    "            'precision': precision_score(y, prediction),\n",
    "           'description': description}"
   ]
  },
  {
   "cell_type": "markdown",
   "metadata": {},
   "source": [
    "### Evaluate with Origin dataset"
   ]
  },
  {
   "cell_type": "code",
   "execution_count": 46,
   "metadata": {},
   "outputs": [
    {
     "name": "stdout",
     "output_type": "stream",
     "text": [
      "Model: Logistic Regression\n",
      "=======================================\n",
      "Model: Decision Tree\n",
      "=======================================\n",
      "Model: Random Forest\n",
      "=======================================\n",
      "Model: Bernoulli NB\n",
      "=======================================\n",
      "Model: Gaussian NB\n",
      "=======================================\n"
     ]
    }
   ],
   "source": [
    "X_train_sub = sub_training_data.drop(columns='target')\n",
    "y_train_sub = sub_training_data['target']\n",
    "scores_origin = []\n",
    "for idx, model in enumerate(models):\n",
    "    print(\"Model: {}\".format(models_name[idx]))\n",
    "    # Your code here\n",
    "    model.fit(X_train_sub, y_train_sub)\n",
    "    scores_origin.append(evaluate_model(model, X_test, y_test, 'origin'))\n",
    "    \n",
    "    print(\"=======================================\")"
   ]
  },
  {
   "cell_type": "markdown",
   "metadata": {},
   "source": [
    "### Evaluate with *Undersampled* dataset"
   ]
  },
  {
   "cell_type": "code",
   "execution_count": 47,
   "metadata": {},
   "outputs": [
    {
     "name": "stdout",
     "output_type": "stream",
     "text": [
      "Model: Logistic Regression\n",
      "=======================================\n",
      "Model: Decision Tree\n",
      "=======================================\n",
      "Model: Random Forest\n",
      "=======================================\n",
      "Model: Bernoulli NB\n",
      "=======================================\n",
      "Model: Gaussian NB\n",
      "=======================================\n"
     ]
    }
   ],
   "source": [
    "scores_under = []\n",
    "for idx, model in enumerate(models):\n",
    "    print(\"Model: {}\".format(models_name[idx]))\n",
    "    # Your code here\n",
    "    model.fit(X_train_undersample, y_train_undersample)\n",
    "    scores_under.append(evaluate_model(model, X_test, y_test, 'under'))\n",
    "    print(\"=======================================\")"
   ]
  },
  {
   "cell_type": "markdown",
   "metadata": {},
   "source": [
    "### Evaluate with *Oversampled* dataset"
   ]
  },
  {
   "cell_type": "code",
   "execution_count": 48,
   "metadata": {},
   "outputs": [
    {
     "name": "stdout",
     "output_type": "stream",
     "text": [
      "Model: Logistic Regression\n",
      "=======================================\n",
      "Model: Decision Tree\n",
      "=======================================\n",
      "Model: Random Forest\n",
      "=======================================\n",
      "Model: Bernoulli NB\n",
      "=======================================\n",
      "Model: Gaussian NB\n",
      "=======================================\n"
     ]
    }
   ],
   "source": [
    "scores_over = []\n",
    "for idx, model in enumerate(models):\n",
    "    print(\"Model: {}\".format(models_name[idx]))\n",
    "    model.fit(X_train_oversample, y_train_oversample)\n",
    "    scores_over.append(evaluate_model(model, X_test, y_test, 'oversample'))\n",
    "    # Your code here\n",
    "    print(\"=======================================\")"
   ]
  },
  {
   "cell_type": "code",
   "execution_count": 53,
   "metadata": {},
   "outputs": [],
   "source": [
    "df_under = pd.DataFrame(scores_under)\n",
    "df_over  = pd.DataFrame(scores_over)\n",
    "df_origin = pd.DataFrame(scores_origin)\n",
    "\n",
    "df_all = pd.concat([df_under, df_over, df_origin])"
   ]
  },
  {
   "cell_type": "code",
   "execution_count": 54,
   "metadata": {},
   "outputs": [
    {
     "data": {
      "image/png": "[encoded data removed]",
      "text/plain": [
       "<Figure size 576x288 with 1 Axes>"
      ]
     },
     "metadata": {
      "needs_background": "light"
     },
     "output_type": "display_data"
    },
    {
     "data": {
      "image/png": "[encoded data removed]",
      "text/plain": [
       "<Figure size 576x288 with 1 Axes>"
      ]
     },
     "metadata": {
      "needs_background": "light"
     },
     "output_type": "display_data"
    },
    {
     "data": {
      "image/png": "[encoded data removed]",
      "text/plain": [
       "<Figure size 576x288 with 1 Axes>"
      ]
     },
     "metadata": {
      "needs_background": "light"
     },
     "output_type": "display_data"
    }
   ],
   "source": [
    "df_all.sort_values(['recall'], inplace=True)\n",
    "for label, df in df_all.groupby('description'):\n",
    "    df.plot(x='name', kind='barh', title=label, figsize=(8, 4), xlim=(0, 1))"
   ]
  },
  {
   "cell_type": "code",
   "execution_count": 55,
   "metadata": {},
   "outputs": [
    {
     "data": {
      "image/png": "[encoded data removed]",
      "text/plain": [
       "<Figure size 576x288 with 1 Axes>"
      ]
     },
     "metadata": {
      "needs_background": "light"
     },
     "output_type": "display_data"
    },
    {
     "data": {
      "image/png": "[encoded data removed]",
      "text/plain": [
       "<Figure size 576x288 with 1 Axes>"
      ]
     },
     "metadata": {
      "needs_background": "light"
     },
     "output_type": "display_data"
    },
    {
     "data": {
      "image/png": "[encoded data removed]",
      "text/plain": [
       "<Figure size 576x288 with 1 Axes>"
      ]
     },
     "metadata": {
      "needs_background": "light"
     },
     "output_type": "display_data"
    },
    {
     "data": {
      "image/png": "[encoded data removed]",
      "text/plain": [
       "<Figure size 576x288 with 1 Axes>"
      ]
     },
     "metadata": {
      "needs_background": "light"
     },
     "output_type": "display_data"
    },
    {
     "data": {
      "image/png": "[encoded data removed]",
      "text/plain": [
       "<Figure size 576x288 with 1 Axes>"
      ]
     },
     "metadata": {
      "needs_background": "light"
     },
     "output_type": "display_data"
    }
   ],
   "source": [
    "df_all.sort_values('recall', inplace=True)\n",
    "for label, df in df_all.groupby('name'):\n",
    "    df.plot(x='description', kind='barh', title=label, figsize=(8, 4), xlim=(0,1))"
   ]
  },
  {
   "cell_type": "markdown",
   "metadata": {},
   "source": [
    "### Conclusion"
   ]
  },
  {
   "cell_type": "markdown",
   "metadata": {},
   "source": [
    "Which model has lowest/highest accuracy?\n",
    "Accurary:\n",
    "- Highest = BernoulliNB\n",
    "- Lowest = RandomForestClassifier\n",
    "\n",
    "Which model has lowest/highest recall?\n",
    "Recall:\n",
    "- Highest = LogisticRegression\n",
    "- Lowest = DecisionTreeClassifier\n",
    "\n",
    "Which model has lowest/highest f1?"
   ]
  },
  {
   "cell_type": "markdown",
   "metadata": {},
   "source": [
    "## 6. GridsearchCV"
   ]
  },
  {
   "cell_type": "code",
   "execution_count": 58,
   "metadata": {},
   "outputs": [],
   "source": [
    "from sklearn.pipeline import Pipeline\n",
    "from sklearn.model_selection import GridSearchCV"
   ]
  },
  {
   "cell_type": "code",
   "execution_count": 59,
   "metadata": {},
   "outputs": [],
   "source": [
    "step = []\n",
    "# append a step 'cls' with value is LogisticRegression to step variable\n",
    "# Your code here\n",
    "step.append(['cls', LogisticRegression()])\n",
    "# Create Pipeline with defined step\n",
    "ppl = Pipeline(step)"
   ]
  },
  {
   "cell_type": "code",
   "execution_count": 74,
   "metadata": {},
   "outputs": [],
   "source": [
    "params_grid = {\n",
    "    \"cls\": models\n",
    "}"
   ]
  },
  {
   "cell_type": "code",
   "execution_count": 75,
   "metadata": {},
   "outputs": [],
   "source": [
    "from sklearn.metrics import roc_curve, precision_recall_curve, auc, make_scorer, recall_score, accuracy_score, precision_score, confusion_matrix\n",
    "# Define metrics to evaluate model\n",
    "scorers = {\n",
    "    'recall_score': make_scorer(recall_score),\n",
    "    'precision_score': make_scorer(precision_score),\n",
    "    'accuracy_score': make_scorer(accuracy_score)\n",
    "}"
   ]
  },
  {
   "cell_type": "code",
   "execution_count": 76,
   "metadata": {},
   "outputs": [],
   "source": [
    "gridcv = GridSearchCV(ppl, param_grid=params_grid, scoring=scorers, refit='recall_score', return_train_score=True, verbose=5)"
   ]
  },
  {
   "cell_type": "code",
   "execution_count": 77,
   "metadata": {},
   "outputs": [
    {
     "name": "stdout",
     "output_type": "stream",
     "text": [
      "Fitting 3 folds for each of 5 candidates, totalling 15 fits\n",
      "[CV] cls=LogisticRegression(C=1.0, class_weight=None, dual=False, fit_intercept=True,\n",
      "          intercept_scaling=1, max_iter=100, multi_class='warn',\n",
      "          n_jobs=None, penalty='l2', random_state=None, solver='warn',\n",
      "          tol=0.0001, verbose=0, warm_start=False) \n"
     ]
    },
    {
     "name": "stderr",
     "output_type": "stream",
     "text": [
      "[Parallel(n_jobs=1)]: Using backend SequentialBackend with 1 concurrent workers.\n"
     ]
    },
    {
     "name": "stdout",
     "output_type": "stream",
     "text": [
      "[CV]  cls=LogisticRegression(C=1.0, class_weight=None, dual=False, fit_intercept=True,\n",
      "          intercept_scaling=1, max_iter=100, multi_class='warn',\n",
      "          n_jobs=None, penalty='l2', random_state=None, solver='warn',\n",
      "          tol=0.0001, verbose=0, warm_start=False), recall_score=0.5561816993057069, precision_score=0.584459348928513, accuracy_score=0.580372987951057, total=   2.9s\n",
      "[CV] cls=LogisticRegression(C=1.0, class_weight=None, dual=False, fit_intercept=True,\n",
      "          intercept_scaling=1, max_iter=100, multi_class='warn',\n",
      "          n_jobs=None, penalty='l2', random_state=None, solver='warn',\n",
      "          tol=0.0001, verbose=0, warm_start=False) \n"
     ]
    },
    {
     "name": "stderr",
     "output_type": "stream",
     "text": [
      "[Parallel(n_jobs=1)]: Done   1 out of   1 | elapsed:    3.2s remaining:    0.0s\n"
     ]
    },
    {
     "name": "stdout",
     "output_type": "stream",
     "text": [
      "[CV]  cls=LogisticRegression(C=1.0, class_weight=None, dual=False, fit_intercept=True,\n",
      "          intercept_scaling=1, max_iter=100, multi_class='warn',\n",
      "          n_jobs=None, penalty='l2', random_state=None, solver='warn',\n",
      "          tol=0.0001, verbose=0, warm_start=False), recall_score=0.5634223799738465, precision_score=0.5962438220757825, accuracy_score=0.5909458870415344, total=   3.6s\n",
      "[CV] cls=LogisticRegression(C=1.0, class_weight=None, dual=False, fit_intercept=True,\n",
      "          intercept_scaling=1, max_iter=100, multi_class='warn',\n",
      "          n_jobs=None, penalty='l2', random_state=None, solver='warn',\n",
      "          tol=0.0001, verbose=0, warm_start=False) \n"
     ]
    },
    {
     "name": "stderr",
     "output_type": "stream",
     "text": [
      "[Parallel(n_jobs=1)]: Done   2 out of   2 | elapsed:    7.1s remaining:    0.0s\n"
     ]
    },
    {
     "name": "stdout",
     "output_type": "stream",
     "text": [
      "[CV]  cls=LogisticRegression(C=1.0, class_weight=None, dual=False, fit_intercept=True,\n",
      "          intercept_scaling=1, max_iter=100, multi_class='warn',\n",
      "          n_jobs=None, penalty='l2', random_state=None, solver='warn',\n",
      "          tol=0.0001, verbose=0, warm_start=False), recall_score=0.5365215766859704, precision_score=0.596510661866519, accuracy_score=0.5868049069057849, total=   2.8s\n",
      "[CV] cls=DecisionTreeClassifier(class_weight=None, criterion='gini', max_depth=None,\n",
      "            max_features=None, max_leaf_nodes=None,\n",
      "            min_impurity_decrease=0.0, min_impurity_split=None,\n",
      "            min_samples_leaf=1, min_samples_split=2,\n",
      "            min_weight_fraction_leaf=0.0, presort=False, random_state=None,\n",
      "            splitter='best') \n"
     ]
    },
    {
     "name": "stderr",
     "output_type": "stream",
     "text": [
      "[Parallel(n_jobs=1)]: Done   3 out of   3 | elapsed:   10.2s remaining:    0.0s\n"
     ]
    },
    {
     "name": "stdout",
     "output_type": "stream",
     "text": [
      "[CV]  cls=DecisionTreeClassifier(class_weight=None, criterion='gini', max_depth=None,\n",
      "            max_features=None, max_leaf_nodes=None,\n",
      "            min_impurity_decrease=0.0, min_impurity_split=None,\n",
      "            min_samples_leaf=1, min_samples_split=2,\n",
      "            min_weight_fraction_leaf=0.0, presort=False, random_state=None,\n",
      "            splitter='best'), recall_score=1.0, precision_score=0.946290731247422, accuracy_score=0.9716211588156543, total=   3.3s\n",
      "[CV] cls=DecisionTreeClassifier(class_weight=None, criterion='gini', max_depth=None,\n",
      "            max_features=None, max_leaf_nodes=None,\n",
      "            min_impurity_decrease=0.0, min_impurity_split=None,\n",
      "            min_samples_leaf=1, min_samples_split=2,\n",
      "            min_weight_fraction_leaf=0.0, presort=False, random_state=None,\n",
      "            splitter='best') \n"
     ]
    },
    {
     "name": "stderr",
     "output_type": "stream",
     "text": [
      "[Parallel(n_jobs=1)]: Done   4 out of   4 | elapsed:   14.1s remaining:    0.0s\n"
     ]
    },
    {
     "name": "stdout",
     "output_type": "stream",
     "text": [
      "[CV]  cls=DecisionTreeClassifier(class_weight=None, criterion='gini', max_depth=None,\n",
      "            max_features=None, max_leaf_nodes=None,\n",
      "            min_impurity_decrease=0.0, min_impurity_split=None,\n",
      "            min_samples_leaf=1, min_samples_split=2,\n",
      "            min_weight_fraction_leaf=0.0, presort=False, random_state=None,\n",
      "            splitter='best'), recall_score=1.0, precision_score=0.9487490030425664, accuracy_score=0.972990223550657, total=   3.4s\n",
      "[CV] cls=DecisionTreeClassifier(class_weight=None, criterion='gini', max_depth=None,\n",
      "            max_features=None, max_leaf_nodes=None,\n",
      "            min_impurity_decrease=0.0, min_impurity_split=None,\n",
      "            min_samples_leaf=1, min_samples_split=2,\n",
      "            min_weight_fraction_leaf=0.0, presort=False, random_state=None,\n",
      "            splitter='best') \n",
      "[CV]  cls=DecisionTreeClassifier(class_weight=None, criterion='gini', max_depth=None,\n",
      "            max_features=None, max_leaf_nodes=None,\n",
      "            min_impurity_decrease=0.0, min_impurity_split=None,\n",
      "            min_samples_leaf=1, min_samples_split=2,\n",
      "            min_weight_fraction_leaf=0.0, presort=False, random_state=None,\n",
      "            splitter='best'), recall_score=1.0, precision_score=0.9463170300530348, accuracy_score=0.9716358428295659, total=   3.3s\n",
      "[CV] cls=RandomForestClassifier(bootstrap=True, class_weight=None, criterion='gini',\n",
      "            max_depth=None, max_features='auto', max_leaf_nodes=None,\n",
      "            min_impurity_decrease=0.0, min_impurity_split=None,\n",
      "            min_samples_leaf=1, min_samples_split=2,\n",
      "            min_weight_fraction_leaf=0.0, n_estimators=10, n_jobs=None,\n",
      "            oob_score=False, random_state=None, verbose=0,\n",
      "            warm_start=False) \n",
      "[CV]  cls=RandomForestClassifier(bootstrap=True, class_weight=None, criterion='gini',\n",
      "            max_depth=None, max_features='auto', max_leaf_nodes=None,\n",
      "            min_impurity_decrease=0.0, min_impurity_split=None,\n",
      "            min_samples_leaf=1, min_samples_split=2,\n",
      "            min_weight_fraction_leaf=0.0, n_estimators=10, n_jobs=None,\n",
      "            oob_score=False, random_state=None, verbose=0,\n",
      "            warm_start=False), recall_score=1.0, precision_score=0.999844353131615, accuracy_score=0.9999221644509481, total=   3.7s\n",
      "[CV] cls=RandomForestClassifier(bootstrap=True, class_weight=None, criterion='gini',\n",
      "            max_depth=None, max_features='auto', max_leaf_nodes=None,\n",
      "            min_impurity_decrease=0.0, min_impurity_split=None,\n",
      "            min_samples_leaf=1, min_samples_split=2,\n",
      "            min_weight_fraction_leaf=0.0, n_estimators=10, n_jobs=None,\n",
      "            oob_score=False, random_state=None, verbose=0,\n",
      "            warm_start=False) \n",
      "[CV]  cls=RandomForestClassifier(bootstrap=True, class_weight=None, criterion='gini',\n",
      "            max_depth=None, max_features='auto', max_leaf_nodes=None,\n",
      "            min_impurity_decrease=0.0, min_impurity_split=None,\n",
      "            min_samples_leaf=1, min_samples_split=2,\n",
      "            min_weight_fraction_leaf=0.0, n_estimators=10, n_jobs=None,\n",
      "            oob_score=False, random_state=None, verbose=0,\n",
      "            warm_start=False), recall_score=1.0, precision_score=0.9996576301783435, accuracy_score=0.9998287564605517, total=   4.3s\n",
      "[CV] cls=RandomForestClassifier(bootstrap=True, class_weight=None, criterion='gini',\n",
      "            max_depth=None, max_features='auto', max_leaf_nodes=None,\n",
      "            min_impurity_decrease=0.0, min_impurity_split=None,\n",
      "            min_samples_leaf=1, min_samples_split=2,\n",
      "            min_weight_fraction_leaf=0.0, n_estimators=10, n_jobs=None,\n",
      "            oob_score=False, random_state=None, verbose=0,\n",
      "            warm_start=False) \n",
      "[CV]  cls=RandomForestClassifier(bootstrap=True, class_weight=None, criterion='gini',\n",
      "            max_depth=None, max_features='auto', max_leaf_nodes=None,\n",
      "            min_impurity_decrease=0.0, min_impurity_split=None,\n",
      "            min_samples_leaf=1, min_samples_split=2,\n",
      "            min_weight_fraction_leaf=0.0, n_estimators=10, n_jobs=None,\n",
      "            oob_score=False, random_state=None, verbose=0,\n",
      "            warm_start=False), recall_score=1.0, precision_score=0.9997198617984873, accuracy_score=0.9998598916495424, total=   4.2s\n",
      "[CV] cls=GaussianNB(priors=None, var_smoothing=1e-09) ................\n",
      "[CV]  cls=GaussianNB(priors=None, var_smoothing=1e-09), recall_score=0.3787166474672312, precision_score=0.530785006763538, accuracy_score=0.5219651919424639, total=   0.7s\n",
      "[CV] cls=GaussianNB(priors=None, var_smoothing=1e-09) ................\n",
      "[CV]  cls=GaussianNB(priors=None, var_smoothing=1e-09), recall_score=0.3867924528301887, precision_score=0.5275607270256497, accuracy_score=0.5202067376548976, total=   0.8s\n",
      "[CV] cls=GaussianNB(priors=None, var_smoothing=1e-09) ................\n",
      "[CV]  cls=GaussianNB(priors=None, var_smoothing=1e-09), recall_score=0.39298835543931754, precision_score=0.5287365951742627, accuracy_score=0.5213587396475496, total=   0.7s\n",
      "[CV] cls=BernoulliNB(alpha=1.0, binarize=0.0, class_prior=None, fit_prior=True) \n",
      "[CV]  cls=BernoulliNB(alpha=1.0, binarize=0.0, class_prior=None, fit_prior=True), recall_score=0.5383729256826177, precision_score=0.5946354883081155, accuracy_score=0.5856813723964008, total=   0.5s\n",
      "[CV] cls=BernoulliNB(alpha=1.0, binarize=0.0, class_prior=None, fit_prior=True) \n",
      "[CV]  cls=BernoulliNB(alpha=1.0, binarize=0.0, class_prior=None, fit_prior=True), recall_score=0.5348714116694688, precision_score=0.59107486925406, accuracy_score=0.5824148452581107, total=   0.5s\n",
      "[CV] cls=BernoulliNB(alpha=1.0, binarize=0.0, class_prior=None, fit_prior=True) \n",
      "[CV]  cls=BernoulliNB(alpha=1.0, binarize=0.0, class_prior=None, fit_prior=True), recall_score=0.544678996201507, precision_score=0.5985151732868041, accuracy_score=0.5896537766984246, total=   0.5s\n"
     ]
    },
    {
     "name": "stderr",
     "output_type": "stream",
     "text": [
      "[Parallel(n_jobs=1)]: Done  15 out of  15 | elapsed:   48.6s finished\n"
     ]
    },
    {
     "data": {
      "text/plain": [
       "GridSearchCV(cv='warn', error_score='raise-deprecating',\n",
       "       estimator=Pipeline(memory=None,\n",
       "     steps=[['cls', LogisticRegression(C=1.0, class_weight=None, dual=False, fit_intercept=True,\n",
       "          intercept_scaling=1, max_iter=100, multi_class='warn',\n",
       "          n_jobs=None, penalty='l2', random_state=None, solver='warn',\n",
       "          tol=0.0001, verbose=0, warm_start=False)]]),\n",
       "       fit_params=None, iid='warn', n_jobs=None,\n",
       "       param_grid={'cls': [LogisticRegression(C=1.0, class_weight=None, dual=False, fit_intercept=True,\n",
       "          intercept_scaling=1, max_iter=100, multi_class='warn',\n",
       "          n_jobs=None, penalty='l2', random_state=None, solver='warn',\n",
       "          tol=0.0001, verbose=0, warm_start=False), DecisionTreeCla...None, var_smoothing=1e-09), BernoulliNB(alpha=1.0, binarize=0.0, class_prior=None, fit_prior=True)]},\n",
       "       pre_dispatch='2*n_jobs', refit='recall_score',\n",
       "       return_train_score=True,\n",
       "       scoring={'recall_score': make_scorer(recall_score), 'precision_score': make_scorer(precision_score), 'accuracy_score': make_scorer(accuracy_score)},\n",
       "       verbose=5)"
      ]
     },
     "execution_count": 77,
     "metadata": {},
     "output_type": "execute_result"
    }
   ],
   "source": [
    "gridcv.fit(X_train_oversample, y_train_oversample)"
   ]
  },
  {
   "cell_type": "code",
   "execution_count": 78,
   "metadata": {},
   "outputs": [
    {
     "data": {
      "text/html": [
       "<div>\n",
       "<style scoped>\n",
       "    .dataframe tbody tr th:only-of-type {\n",
       "        vertical-align: middle;\n",
       "    }\n",
       "\n",
       "    .dataframe tbody tr th {\n",
       "        vertical-align: top;\n",
       "    }\n",
       "\n",
       "    .dataframe thead th {\n",
       "        text-align: right;\n",
       "    }\n",
       "</style>\n",
       "<table border=\"1\" class=\"dataframe\">\n",
       "  <thead>\n",
       "    <tr style=\"text-align: right;\">\n",
       "      <th></th>\n",
       "      <th>mean_test_precision_score</th>\n",
       "      <th>mean_test_recall_score</th>\n",
       "      <th>mean_test_accuracy_score</th>\n",
       "      <th>param_cls</th>\n",
       "    </tr>\n",
       "  </thead>\n",
       "  <tbody>\n",
       "    <tr>\n",
       "      <th>2</th>\n",
       "      <td>1.000</td>\n",
       "      <td>1.000</td>\n",
       "      <td>1.000</td>\n",
       "      <td>(DecisionTreeClassifier(class_weight=None, cri...</td>\n",
       "    </tr>\n",
       "    <tr>\n",
       "      <th>1</th>\n",
       "      <td>0.947</td>\n",
       "      <td>1.000</td>\n",
       "      <td>0.972</td>\n",
       "      <td>DecisionTreeClassifier(class_weight=None, crit...</td>\n",
       "    </tr>\n",
       "    <tr>\n",
       "      <th>4</th>\n",
       "      <td>0.595</td>\n",
       "      <td>0.539</td>\n",
       "      <td>0.586</td>\n",
       "      <td>BernoulliNB(alpha=1.0, binarize=0.0, class_pri...</td>\n",
       "    </tr>\n",
       "    <tr>\n",
       "      <th>0</th>\n",
       "      <td>0.592</td>\n",
       "      <td>0.552</td>\n",
       "      <td>0.586</td>\n",
       "      <td>LogisticRegression(C=1.0, class_weight=None, d...</td>\n",
       "    </tr>\n",
       "    <tr>\n",
       "      <th>3</th>\n",
       "      <td>0.529</td>\n",
       "      <td>0.386</td>\n",
       "      <td>0.521</td>\n",
       "      <td>GaussianNB(priors=None, var_smoothing=1e-09)</td>\n",
       "    </tr>\n",
       "  </tbody>\n",
       "</table>\n",
       "</div>"
      ],
      "text/plain": [
       "   mean_test_precision_score  mean_test_recall_score  \\\n",
       "2                      1.000                   1.000   \n",
       "1                      0.947                   1.000   \n",
       "4                      0.595                   0.539   \n",
       "0                      0.592                   0.552   \n",
       "3                      0.529                   0.386   \n",
       "\n",
       "   mean_test_accuracy_score                                          param_cls  \n",
       "2                     1.000  (DecisionTreeClassifier(class_weight=None, cri...  \n",
       "1                     0.972  DecisionTreeClassifier(class_weight=None, crit...  \n",
       "4                     0.586  BernoulliNB(alpha=1.0, binarize=0.0, class_pri...  \n",
       "0                     0.586  LogisticRegression(C=1.0, class_weight=None, d...  \n",
       "3                     0.521       GaussianNB(priors=None, var_smoothing=1e-09)  "
      ]
     },
     "execution_count": 78,
     "metadata": {},
     "output_type": "execute_result"
    }
   ],
   "source": [
    "# Using gridsearchcv, random forest model and this param grid to find the best combination of parameters \n",
    "# Hint: example\n",
    "# https://stackoverflow.com/questions/30102973/how-to-get-best-estimator-on-gridsearchcv-random-forest-classifier-scikit\n",
    "results = pd.DataFrame(gridcv.cv_results_)\n",
    "results = results.sort_values(by='mean_test_precision_score', ascending=False)\n",
    "results[['mean_test_precision_score', 'mean_test_recall_score', 'mean_test_accuracy_score', 'param_cls']].round(3).head()"
   ]
  },
  {
   "cell_type": "markdown",
   "metadata": {},
   "source": [
    "#### which is the best combination of parameter"
   ]
  },
  {
   "cell_type": "code",
   "execution_count": 79,
   "metadata": {},
   "outputs": [
    {
     "data": {
      "text/html": [
       "<div>\n",
       "<style scoped>\n",
       "    .dataframe tbody tr th:only-of-type {\n",
       "        vertical-align: middle;\n",
       "    }\n",
       "\n",
       "    .dataframe tbody tr th {\n",
       "        vertical-align: top;\n",
       "    }\n",
       "\n",
       "    .dataframe thead th {\n",
       "        text-align: right;\n",
       "    }\n",
       "</style>\n",
       "<table border=\"1\" class=\"dataframe\">\n",
       "  <thead>\n",
       "    <tr style=\"text-align: right;\">\n",
       "      <th></th>\n",
       "      <th>mean_fit_time</th>\n",
       "      <th>std_fit_time</th>\n",
       "      <th>mean_score_time</th>\n",
       "      <th>std_score_time</th>\n",
       "      <th>param_cls</th>\n",
       "      <th>params</th>\n",
       "      <th>split0_test_recall_score</th>\n",
       "      <th>split1_test_recall_score</th>\n",
       "      <th>split2_test_recall_score</th>\n",
       "      <th>mean_test_recall_score</th>\n",
       "      <th>...</th>\n",
       "      <th>split1_test_accuracy_score</th>\n",
       "      <th>split2_test_accuracy_score</th>\n",
       "      <th>mean_test_accuracy_score</th>\n",
       "      <th>std_test_accuracy_score</th>\n",
       "      <th>rank_test_accuracy_score</th>\n",
       "      <th>split0_train_accuracy_score</th>\n",
       "      <th>split1_train_accuracy_score</th>\n",
       "      <th>split2_train_accuracy_score</th>\n",
       "      <th>mean_train_accuracy_score</th>\n",
       "      <th>std_train_accuracy_score</th>\n",
       "    </tr>\n",
       "  </thead>\n",
       "  <tbody>\n",
       "    <tr>\n",
       "      <th>2</th>\n",
       "      <td>3.395998</td>\n",
       "      <td>0.239072</td>\n",
       "      <td>0.776008</td>\n",
       "      <td>0.052362</td>\n",
       "      <td>(DecisionTreeClassifier(class_weight=None, cri...</td>\n",
       "      <td>{'cls': (DecisionTreeClassifier(class_weight=N...</td>\n",
       "      <td>1.000000</td>\n",
       "      <td>1.000000</td>\n",
       "      <td>1.000000</td>\n",
       "      <td>1.000000</td>\n",
       "      <td>...</td>\n",
       "      <td>0.999829</td>\n",
       "      <td>0.999860</td>\n",
       "      <td>0.999870</td>\n",
       "      <td>0.000039</td>\n",
       "      <td>1</td>\n",
       "      <td>1.000000</td>\n",
       "      <td>1.000000</td>\n",
       "      <td>1.000000</td>\n",
       "      <td>1.000000</td>\n",
       "      <td>0.000000</td>\n",
       "    </tr>\n",
       "    <tr>\n",
       "      <th>1</th>\n",
       "      <td>3.241330</td>\n",
       "      <td>0.059023</td>\n",
       "      <td>0.199341</td>\n",
       "      <td>0.014647</td>\n",
       "      <td>DecisionTreeClassifier(class_weight=None, crit...</td>\n",
       "      <td>{'cls': DecisionTreeClassifier(class_weight=No...</td>\n",
       "      <td>1.000000</td>\n",
       "      <td>1.000000</td>\n",
       "      <td>1.000000</td>\n",
       "      <td>1.000000</td>\n",
       "      <td>...</td>\n",
       "      <td>0.972990</td>\n",
       "      <td>0.971636</td>\n",
       "      <td>0.972082</td>\n",
       "      <td>0.000642</td>\n",
       "      <td>2</td>\n",
       "      <td>1.000000</td>\n",
       "      <td>1.000000</td>\n",
       "      <td>1.000000</td>\n",
       "      <td>1.000000</td>\n",
       "      <td>0.000000</td>\n",
       "    </tr>\n",
       "    <tr>\n",
       "      <th>4</th>\n",
       "      <td>0.257332</td>\n",
       "      <td>0.004495</td>\n",
       "      <td>0.357673</td>\n",
       "      <td>0.002864</td>\n",
       "      <td>BernoulliNB(alpha=1.0, binarize=0.0, class_pri...</td>\n",
       "      <td>{'cls': BernoulliNB(alpha=1.0, binarize=0.0, c...</td>\n",
       "      <td>0.538373</td>\n",
       "      <td>0.534871</td>\n",
       "      <td>0.544679</td>\n",
       "      <td>0.539308</td>\n",
       "      <td>...</td>\n",
       "      <td>0.582415</td>\n",
       "      <td>0.589654</td>\n",
       "      <td>0.585917</td>\n",
       "      <td>0.002960</td>\n",
       "      <td>4</td>\n",
       "      <td>0.587755</td>\n",
       "      <td>0.585379</td>\n",
       "      <td>0.585044</td>\n",
       "      <td>0.586059</td>\n",
       "      <td>0.001206</td>\n",
       "    </tr>\n",
       "    <tr>\n",
       "      <th>0</th>\n",
       "      <td>3.099329</td>\n",
       "      <td>0.350606</td>\n",
       "      <td>0.110668</td>\n",
       "      <td>0.002356</td>\n",
       "      <td>LogisticRegression(C=1.0, class_weight=None, d...</td>\n",
       "      <td>{'cls': LogisticRegression(C=1.0, class_weight...</td>\n",
       "      <td>0.556182</td>\n",
       "      <td>0.563422</td>\n",
       "      <td>0.536522</td>\n",
       "      <td>0.552042</td>\n",
       "      <td>...</td>\n",
       "      <td>0.590946</td>\n",
       "      <td>0.586805</td>\n",
       "      <td>0.586041</td>\n",
       "      <td>0.004350</td>\n",
       "      <td>3</td>\n",
       "      <td>0.585622</td>\n",
       "      <td>0.591030</td>\n",
       "      <td>0.582079</td>\n",
       "      <td>0.586244</td>\n",
       "      <td>0.003681</td>\n",
       "    </tr>\n",
       "    <tr>\n",
       "      <th>3</th>\n",
       "      <td>0.321332</td>\n",
       "      <td>0.020680</td>\n",
       "      <td>0.509005</td>\n",
       "      <td>0.070268</td>\n",
       "      <td>GaussianNB(priors=None, var_smoothing=1e-09)</td>\n",
       "      <td>{'cls': GaussianNB(priors=None, var_smoothing=...</td>\n",
       "      <td>0.378717</td>\n",
       "      <td>0.386792</td>\n",
       "      <td>0.392988</td>\n",
       "      <td>0.386166</td>\n",
       "      <td>...</td>\n",
       "      <td>0.520207</td>\n",
       "      <td>0.521359</td>\n",
       "      <td>0.521177</td>\n",
       "      <td>0.000729</td>\n",
       "      <td>5</td>\n",
       "      <td>0.522122</td>\n",
       "      <td>0.521031</td>\n",
       "      <td>0.522977</td>\n",
       "      <td>0.522043</td>\n",
       "      <td>0.000796</td>\n",
       "    </tr>\n",
       "  </tbody>\n",
       "</table>\n",
       "<p>5 rows × 39 columns</p>\n",
       "</div>"
      ],
      "text/plain": [
       "   mean_fit_time  std_fit_time  mean_score_time  std_score_time  \\\n",
       "2       3.395998      0.239072         0.776008        0.052362   \n",
       "1       3.241330      0.059023         0.199341        0.014647   \n",
       "4       0.257332      0.004495         0.357673        0.002864   \n",
       "0       3.099329      0.350606         0.110668        0.002356   \n",
       "3       0.321332      0.020680         0.509005        0.070268   \n",
       "\n",
       "                                           param_cls  \\\n",
       "2  (DecisionTreeClassifier(class_weight=None, cri...   \n",
       "1  DecisionTreeClassifier(class_weight=None, crit...   \n",
       "4  BernoulliNB(alpha=1.0, binarize=0.0, class_pri...   \n",
       "0  LogisticRegression(C=1.0, class_weight=None, d...   \n",
       "3       GaussianNB(priors=None, var_smoothing=1e-09)   \n",
       "\n",
       "                                              params  \\\n",
       "2  {'cls': (DecisionTreeClassifier(class_weight=N...   \n",
       "1  {'cls': DecisionTreeClassifier(class_weight=No...   \n",
       "4  {'cls': BernoulliNB(alpha=1.0, binarize=0.0, c...   \n",
       "0  {'cls': LogisticRegression(C=1.0, class_weight...   \n",
       "3  {'cls': GaussianNB(priors=None, var_smoothing=...   \n",
       "\n",
       "   split0_test_recall_score  split1_test_recall_score  \\\n",
       "2                  1.000000                  1.000000   \n",
       "1                  1.000000                  1.000000   \n",
       "4                  0.538373                  0.534871   \n",
       "0                  0.556182                  0.563422   \n",
       "3                  0.378717                  0.386792   \n",
       "\n",
       "   split2_test_recall_score  mean_test_recall_score  ...  \\\n",
       "2                  1.000000                1.000000  ...   \n",
       "1                  1.000000                1.000000  ...   \n",
       "4                  0.544679                0.539308  ...   \n",
       "0                  0.536522                0.552042  ...   \n",
       "3                  0.392988                0.386166  ...   \n",
       "\n",
       "   split1_test_accuracy_score  split2_test_accuracy_score  \\\n",
       "2                    0.999829                    0.999860   \n",
       "1                    0.972990                    0.971636   \n",
       "4                    0.582415                    0.589654   \n",
       "0                    0.590946                    0.586805   \n",
       "3                    0.520207                    0.521359   \n",
       "\n",
       "   mean_test_accuracy_score  std_test_accuracy_score  \\\n",
       "2                  0.999870                 0.000039   \n",
       "1                  0.972082                 0.000642   \n",
       "4                  0.585917                 0.002960   \n",
       "0                  0.586041                 0.004350   \n",
       "3                  0.521177                 0.000729   \n",
       "\n",
       "   rank_test_accuracy_score  split0_train_accuracy_score  \\\n",
       "2                         1                     1.000000   \n",
       "1                         2                     1.000000   \n",
       "4                         4                     0.587755   \n",
       "0                         3                     0.585622   \n",
       "3                         5                     0.522122   \n",
       "\n",
       "   split1_train_accuracy_score  split2_train_accuracy_score  \\\n",
       "2                     1.000000                     1.000000   \n",
       "1                     1.000000                     1.000000   \n",
       "4                     0.585379                     0.585044   \n",
       "0                     0.591030                     0.582079   \n",
       "3                     0.521031                     0.522977   \n",
       "\n",
       "   mean_train_accuracy_score  std_train_accuracy_score  \n",
       "2                   1.000000                  0.000000  \n",
       "1                   1.000000                  0.000000  \n",
       "4                   0.586059                  0.001206  \n",
       "0                   0.586244                  0.003681  \n",
       "3                   0.522043                  0.000796  \n",
       "\n",
       "[5 rows x 39 columns]"
      ]
     },
     "execution_count": 79,
     "metadata": {},
     "output_type": "execute_result"
    }
   ],
   "source": [
    "# Your code here\n",
    "results.head()"
   ]
  },
  {
   "cell_type": "markdown",
   "metadata": {},
   "source": [
    "# Done! Great Job."
   ]
  }
 ],
 "metadata": {
  "kernelspec": {
   "display_name": "Python 3",
   "language": "python",
   "name": "python3"
  },
  "language_info": {
   "codemirror_mode": {
    "name": "ipython",
    "version": 3
   },
   "file_extension": ".py",
   "mimetype": "text/x-python",
   "name": "python",
   "nbconvert_exporter": "python",
   "pygments_lexer": "ipython3",
   "version": "3.7.3"
  }
 },
 "nbformat": 4,
 "nbformat_minor": 2
}
